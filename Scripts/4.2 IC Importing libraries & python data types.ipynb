{
 "cells": [
  {
   "cell_type": "markdown",
   "id": "115228f9",
   "metadata": {},
   "source": [
    "# 01 Importing libraries"
   ]
  },
  {
   "cell_type": "code",
   "execution_count": 1,
   "id": "00f8c3b8",
   "metadata": {},
   "outputs": [],
   "source": [
    "import pandas as pd\n",
    "import numpy as np\n",
    "import os"
   ]
  },
  {
   "cell_type": "markdown",
   "id": "88901f99",
   "metadata": {},
   "source": [
    "# Working with Python Data Types"
   ]
  },
  {
   "cell_type": "code",
   "execution_count": 2,
   "id": "f5c6b8bc",
   "metadata": {},
   "outputs": [],
   "source": [
    "# Assigning Values\n",
    "a = 5\n",
    "b = 95\n",
    "c = 105\n",
    "d = 20"
   ]
  },
  {
   "cell_type": "code",
   "execution_count": 3,
   "id": "67b79cf4",
   "metadata": {},
   "outputs": [
    {
     "name": "stdout",
     "output_type": "stream",
     "text": [
      "100\n",
      "100\n",
      "100\n"
     ]
    }
   ],
   "source": [
    "# Results\n",
    "print (a + b)\n",
    "print (c - a)\n",
    "print (a * d)"
   ]
  },
  {
   "cell_type": "code",
   "execution_count": 4,
   "id": "0c19838a",
   "metadata": {},
   "outputs": [],
   "source": [
    "# Assigning floating Values\n",
    "x = 9.98\n",
    "y = 3.32"
   ]
  },
  {
   "cell_type": "code",
   "execution_count": 5,
   "id": "21ec4548",
   "metadata": {},
   "outputs": [
    {
     "name": "stdout",
     "output_type": "stream",
     "text": [
      "3.0060240963855422\n"
     ]
    }
   ],
   "source": [
    "# Results\n",
    "print (x/y)"
   ]
  },
  {
   "cell_type": "code",
   "execution_count": 6,
   "id": "9e49c4c8",
   "metadata": {},
   "outputs": [],
   "source": [
    "# Constructing short word\n",
    "g = 'Good'\n",
    "h = 'luck!'"
   ]
  },
  {
   "cell_type": "code",
   "execution_count": 7,
   "id": "ccab4649",
   "metadata": {},
   "outputs": [
    {
     "name": "stdout",
     "output_type": "stream",
     "text": [
      "Goodluck!\n"
     ]
    }
   ],
   "source": [
    "# concatenate word\n",
    "print(g+h)"
   ]
  },
  {
   "cell_type": "code",
   "execution_count": 10,
   "id": "805a9449",
   "metadata": {},
   "outputs": [],
   "source": [
    "# constructing 2 short sentences\n",
    "i = 'Everything is going to be fine in the end. '\n",
    "j = 'If it is not fine it is not the end.'"
   ]
  },
  {
   "cell_type": "code",
   "execution_count": 11,
   "id": "457e1558",
   "metadata": {},
   "outputs": [
    {
     "name": "stdout",
     "output_type": "stream",
     "text": [
      "Everything is going to be fine in the end. If it is not fine it is not the end.\n"
     ]
    }
   ],
   "source": [
    "# joining the sentences\n",
    "print (i + j)"
   ]
  },
  {
   "cell_type": "markdown",
   "id": "f624aaf6",
   "metadata": {},
   "source": [
    "# Bonus Task"
   ]
  },
  {
   "cell_type": "code",
   "execution_count": 12,
   "id": "8960e1fe",
   "metadata": {},
   "outputs": [
    {
     "data": {
      "text/plain": [
       "'GoodGoodGoodGoodGoodGoodGoodGoodGoodGoodGoodGoodGoodGoodGoodGoodGoodGoodGoodGoodGoodGoodGoodGoodGoodGoodGoodGoodGoodGoodGoodGoodGoodGoodGoodGoodGoodGoodGoodGoodGoodGoodGoodGoodGoodGoodGoodGoodGoodGoodGoodGoodGoodGoodGoodGoodGoodGoodGoodGoodGoodGoodGoodGoodGoodGoodGoodGoodGoodGoodGoodGoodGoodGoodGoodGoodGoodGoodGoodGoodGoodGoodGoodGoodGoodGoodGoodGoodGoodGoodGoodGoodGoodGoodGoodGoodGoodGoodGoodGood'"
      ]
     },
     "execution_count": 12,
     "metadata": {},
     "output_type": "execute_result"
    }
   ],
   "source": [
    "g * 100"
   ]
  },
  {
   "cell_type": "code",
   "execution_count": null,
   "id": "644c2b25",
   "metadata": {},
   "outputs": [],
   "source": []
  }
 ],
 "metadata": {
  "kernelspec": {
   "display_name": "Python 3",
   "language": "python",
   "name": "python3"
  },
  "language_info": {
   "codemirror_mode": {
    "name": "ipython",
    "version": 3
   },
   "file_extension": ".py",
   "mimetype": "text/x-python",
   "name": "python",
   "nbconvert_exporter": "python",
   "pygments_lexer": "ipython3",
   "version": "3.8.8"
  }
 },
 "nbformat": 4,
 "nbformat_minor": 5
}
